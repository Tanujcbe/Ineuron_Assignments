{
  "nbformat": 4,
  "nbformat_minor": 0,
  "metadata": {
    "colab": {
      "name": "Exception handling Assignment.ipynb",
      "provenance": []
    },
    "kernelspec": {
      "name": "python3",
      "display_name": "Python 3"
    }
  },
  "cells": [
    {
      "cell_type": "markdown",
      "metadata": {
        "id": "EssKD6cegUqy"
      },
      "source": [
        "1. Write a function to compute 5/0 and use try/except to catch the exceptions."
      ]
    },
    {
      "cell_type": "code",
      "metadata": {
        "colab": {
          "base_uri": "https://localhost:8080/"
        },
        "id": "JqpDk9Wrf5Is",
        "outputId": "010f4e88-50ca-44e3-bd36-1861c23d342f"
      },
      "source": [
        "try:\r\n",
        "  print(5/0)\r\n",
        "  print(\"Success!!!\")\r\n",
        "except:\r\n",
        "  print(\"It cannot be divided\")"
      ],
      "execution_count": 1,
      "outputs": [
        {
          "output_type": "stream",
          "text": [
            "It cannot be divided\n"
          ],
          "name": "stdout"
        }
      ]
    },
    {
      "cell_type": "markdown",
      "metadata": {
        "id": "W6Z-oWCKiuX2"
      },
      "source": [
        "2. Implement a Python program to generate all sentences where subject is in\r\n",
        "[\"Americans\", \"Indians\"] and verb is in [\"Play\", \"watch\"] and the object is in\r\n",
        "[\"Baseball\",\"cricket\"].             \r\n",
        "Hint: Subject,Verb and Object should be declared in the program as shown below.   \r\n",
        "subjects=[\"Americans \",\"Indians\"]        \r\n",
        "verbs=[\"play\",\"watch\"]               \r\n",
        "objects=[\"Baseball\",\"Cricket\"]          \r\n",
        "Output should come as below:       \r\n",
        "Americans play Baseball.       \r\n",
        "Americans play Cricket.           \r\n",
        "Americans watch Baseball.                 \r\n",
        "Americans watch Cricket.                 \r\n",
        "Indians play Baseball.                       \r\n",
        "Indians play Cricket.                 \r\n",
        "Indians watch Baseball.                      \r\n",
        "Indians watch Cricket.                   "
      ]
    },
    {
      "cell_type": "code",
      "metadata": {
        "colab": {
          "base_uri": "https://localhost:8080/"
        },
        "id": "Ge8F0zr3i_Vg",
        "outputId": "89ae08e7-a57e-4683-bea4-a6003ae91e73"
      },
      "source": [
        "sub= [\"Americans\", \"Indians\"]\r\n",
        "verb=[\"Play\", \"watch\"]\r\n",
        "obj=[\"Baseball\",\"cricket\"]\r\n",
        "for i in sub:\r\n",
        "  for j in verb:\r\n",
        "    for k in obj:\r\n",
        "      print(i+' '+j+' '+k)"
      ],
      "execution_count": 2,
      "outputs": [
        {
          "output_type": "stream",
          "text": [
            "Americans Play Baseball\n",
            "Americans Play cricket\n",
            "Americans watch Baseball\n",
            "Americans watch cricket\n",
            "Indians Play Baseball\n",
            "Indians Play cricket\n",
            "Indians watch Baseball\n",
            "Indians watch cricket\n"
          ],
          "name": "stdout"
        }
      ]
    }
  ]
}