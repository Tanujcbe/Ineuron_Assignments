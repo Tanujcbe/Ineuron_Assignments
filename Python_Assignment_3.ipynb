{
  "nbformat": 4,
  "nbformat_minor": 0,
  "metadata": {
    "colab": {
      "name": "Python Assignment 3.ipynb",
      "provenance": []
    },
    "kernelspec": {
      "name": "python3",
      "display_name": "Python 3"
    }
  },
  "cells": [
    {
      "cell_type": "markdown",
      "metadata": {
        "id": "VE7rKk3aV7hn"
      },
      "source": [
        "1.1 Write a Python Program to implement your own myreduce() function which works exactly like Python's built-in function reduce()"
      ]
    },
    {
      "cell_type": "code",
      "metadata": {
        "id": "3uKmfha7VnEd"
      },
      "source": [
        "def myreduce(num):\r\n",
        "  sum_num=0\r\n",
        "  for i in num:\r\n",
        "    sum_num+=i\r\n",
        "  return sum_num"
      ],
      "execution_count": null,
      "outputs": []
    },
    {
      "cell_type": "code",
      "metadata": {
        "colab": {
          "base_uri": "https://localhost:8080/"
        },
        "id": "vsFVGbV6Wis7",
        "outputId": "50dadaf9-bbd8-4c5d-8b08-7eeb61bfef09"
      },
      "source": [
        "myreduce([1,10,15,19])"
      ],
      "execution_count": null,
      "outputs": [
        {
          "output_type": "execute_result",
          "data": {
            "text/plain": [
              "45"
            ]
          },
          "metadata": {
            "tags": []
          },
          "execution_count": 2
        }
      ]
    },
    {
      "cell_type": "code",
      "metadata": {
        "id": "sS_kPvzTWvZc"
      },
      "source": [
        "# This block is for my own reference.\r\n",
        "from functools import reduce        \r\n",
        "a=lambda x,y : x+y\r\n",
        "reduce(a,[1,10,15,19])\r\n",
        "sam=iter([1,10,15,19])"
      ],
      "execution_count": null,
      "outputs": []
    },
    {
      "cell_type": "markdown",
      "metadata": {
        "id": "aUJ5k6KiMryy"
      },
      "source": [
        "1.2 Write a Python program to implement your own myfilter() function which works exactly like Python's built-in function filter()"
      ]
    },
    {
      "cell_type": "code",
      "metadata": {
        "id": "OcRT3N7mM3Bz"
      },
      "source": [
        "def myfilter(num):\r\n",
        "  if num%2==0:\r\n",
        "    return True\r\n",
        "  else:\r\n",
        "    return False"
      ],
      "execution_count": null,
      "outputs": []
    },
    {
      "cell_type": "code",
      "metadata": {
        "colab": {
          "base_uri": "https://localhost:8080/"
        },
        "id": "DSc6AqvhNKUy",
        "outputId": "e45ce502-3fa2-43ce-99d5-239f30dd320a"
      },
      "source": [
        "lst=[0,1,2,3,4,5,6,7,8,9]\r\n",
        "l=[]\r\n",
        "for i in lst:\r\n",
        "  if(myfilter(i)):\r\n",
        "    l.append(i)\r\n",
        "print(list(l))"
      ],
      "execution_count": null,
      "outputs": [
        {
          "output_type": "stream",
          "text": [
            "[0, 2, 4, 6, 8]\n"
          ],
          "name": "stdout"
        }
      ]
    },
    {
      "cell_type": "code",
      "metadata": {
        "colab": {
          "base_uri": "https://localhost:8080/"
        },
        "id": "WYUse9RUNzOh",
        "outputId": "735c5917-137f-4145-94ce-44572e00ba1b"
      },
      "source": [
        "# This block is for my own reference.\r\n",
        "list(filter(myfilter,lst))"
      ],
      "execution_count": null,
      "outputs": [
        {
          "output_type": "execute_result",
          "data": {
            "text/plain": [
              "[0, 2, 4, 6, 8]"
            ]
          },
          "metadata": {
            "tags": []
          },
          "execution_count": 6
        }
      ]
    },
    {
      "cell_type": "markdown",
      "metadata": {
        "id": "h9BHIKZhY5tV"
      },
      "source": [
        "2. Implement List comprehensions to produce the following lists.\r\n",
        "Write List comprehensions to produce the following Lists      \r\n",
        "['A', 'C', 'A', 'D', 'G', 'I', ’L’, ‘ D’]              \r\n",
        "['x', 'xx', 'xxx', 'xxxx', 'y', 'yy', 'yyy', 'yyyy', 'z', 'zz', 'zzz', 'zzzz']  \r\n",
        "['x', 'y', 'z', 'xx', 'yy', 'zz', 'xxx', 'yyy', 'zzz', 'xxxx', 'yyyy', 'zzzz']   \r\n",
        "[[2], [3], [4], [3], [4], [5], [4], [5], [6]] [[2, 3, 4, 5], [3, 4, 5, 6],\r\n",
        "[4, 5, 6, 7], [5, 6, 7, 8]]                  \r\n",
        "[(1, 1), (2, 1), (3, 1), (1, 2), (2, 2), (3, 2), (1, 3), (2, 3), (3, 3)]"
      ]
    },
    {
      "cell_type": "code",
      "metadata": {
        "colab": {
          "base_uri": "https://localhost:8080/"
        },
        "id": "UFbMJa88Y_Bl",
        "outputId": "aee04237-4617-4340-da93-459fa5eb5377"
      },
      "source": [
        "strng = \"ACADGILD\"\r\n",
        "alph_lst=[]\r\n",
        "for i in strng:\r\n",
        "  alph_lst.append(i)\r\n",
        "print(alph_lst)"
      ],
      "execution_count": null,
      "outputs": [
        {
          "output_type": "stream",
          "text": [
            "['A', 'C', 'A', 'D', 'G', 'I', 'L', 'D']\n"
          ],
          "name": "stdout"
        }
      ]
    },
    {
      "cell_type": "code",
      "metadata": {
        "colab": {
          "base_uri": "https://localhost:8080/"
        },
        "id": "k2xBATk7d5i2",
        "outputId": "3605deef-b3a0-44ae-bda2-300bfcce4fcb"
      },
      "source": [
        "strng='xyz'\r\n",
        "alph_lst=[]\r\n",
        "for i in strng:\r\n",
        "  temp=\"\"\r\n",
        "  for j in range(4):\r\n",
        "    temp+=i\r\n",
        "    alph_lst.append(temp)\r\n",
        "list(alph_lst)"
      ],
      "execution_count": null,
      "outputs": [
        {
          "output_type": "execute_result",
          "data": {
            "text/plain": [
              "['x', 'xx', 'xxx', 'xxxx', 'y', 'yy', 'yyy', 'yyyy', 'z', 'zz', 'zzz', 'zzzz']"
            ]
          },
          "metadata": {
            "tags": []
          },
          "execution_count": 16
        }
      ]
    },
    {
      "cell_type": "code",
      "metadata": {
        "colab": {
          "base_uri": "https://localhost:8080/"
        },
        "id": "e2rjxmwFiR0P",
        "outputId": "cefc7d46-bdd0-4d43-ee86-e407cc3477e9"
      },
      "source": [
        "strng='xyz'\r\n",
        "alph_lst=[]\r\n",
        "for i in range(4):\r\n",
        "  for j in strng:\r\n",
        "    temp=\"\"\r\n",
        "    for k in range(i+1):\r\n",
        "      temp+=j\r\n",
        "    alph_lst.append(temp)\r\n",
        "print(list(alph_lst))"
      ],
      "execution_count": null,
      "outputs": [
        {
          "output_type": "stream",
          "text": [
            "['x', 'y', 'z', 'xx', 'yy', 'zz', 'xxx', 'yyy', 'zzz', 'xxxx', 'yyyy', 'zzzz']\n"
          ],
          "name": "stdout"
        }
      ]
    },
    {
      "cell_type": "code",
      "metadata": {
        "id": "tGPHf_oYmKpl",
        "colab": {
          "base_uri": "https://localhost:8080/"
        },
        "outputId": "27d8f2c8-9c8d-4c48-d73b-a48146deae5a"
      },
      "source": [
        "# [[2], [3], [4], [3], [4], [5], [4], [5], [6]] [[2, 3, 4, 5], [3, 4, 5, 6], [4, 5, 6, 7], [5, 6, 7, 8]]\r\n",
        "lst=[]\r\n",
        "lst2=[]\r\n",
        "lst3=[]\r\n",
        "for i in range(2,6):\r\n",
        "  for j in range(3):\r\n",
        "    lst.append([i+j])\r\n",
        "for i in range(2,6):\r\n",
        "  lst2=[]\r\n",
        "  for j in range(4):\r\n",
        "    lst2.append(i+j)\r\n",
        "  lst3.append(lst2)\r\n",
        "print(lst,lst3)"
      ],
      "execution_count": 2,
      "outputs": [
        {
          "output_type": "stream",
          "text": [
            "[[2], [3], [4], [3], [4], [5], [4], [5], [6], [5], [6], [7]] [[2, 3, 4, 5], [3, 4, 5, 6], [4, 5, 6, 7], [5, 6, 7, 8]]\n"
          ],
          "name": "stdout"
        }
      ]
    },
    {
      "cell_type": "code",
      "metadata": {
        "colab": {
          "base_uri": "https://localhost:8080/"
        },
        "id": "_NS5LfjAn0wB",
        "outputId": "90dcf23b-9d8e-4f2e-ef0d-7fa77d7cf64a"
      },
      "source": [
        "lst=[]\r\n",
        "for i in range(1,4):\r\n",
        "  for j in range(1,4):\r\n",
        "    lst.append((j,i))\r\n",
        "list(lst)"
      ],
      "execution_count": null,
      "outputs": [
        {
          "output_type": "execute_result",
          "data": {
            "text/plain": [
              "[(1, 1), (2, 1), (3, 1), (1, 2), (2, 2), (3, 2), (1, 3), (2, 3), (3, 3)]"
            ]
          },
          "metadata": {
            "tags": []
          },
          "execution_count": 35
        }
      ]
    }
  ]
}