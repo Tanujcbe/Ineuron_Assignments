{
  "nbformat": 4,
  "nbformat_minor": 0,
  "metadata": {
    "colab": {
      "name": "numpy assignment.ipynb",
      "provenance": []
    },
    "kernelspec": {
      "name": "python3",
      "display_name": "Python 3"
    }
  },
  "cells": [
    {
      "cell_type": "markdown",
      "metadata": {
        "id": "Fei5Xdbp2mEp"
      },
      "source": [
        "Write a function so that the columns of the output matrix are powers of the input\r\n",
        "vector.\r\n",
        "The order of the powers is determined by the increasing boolean argument. Specifically, when\r\n",
        "increasing is False, the i-th output column is the input vector raised element-wise to the power\r\n",
        "of N - i - 1.\r\n",
        "\r\n",
        "HINT: Such a matrix with a geometric progression in each row is named for Alexandre-\r\n",
        "Theophile Vandermonde."
      ]
    },
    {
      "cell_type": "code",
      "metadata": {
        "colab": {
          "base_uri": "https://localhost:8080/"
        },
        "id": "Q_F53EKCyR8I",
        "outputId": "3adb55f9-2963-4145-e4a1-0686d8d088bb"
      },
      "source": [
        "import numpy as np\r\n",
        "vect=np.array([1,2,3,4])\r\n",
        "np.vander(vect)"
      ],
      "execution_count": 11,
      "outputs": [
        {
          "output_type": "execute_result",
          "data": {
            "text/plain": [
              "array([[ 1,  1,  1,  1],\n",
              "       [ 8,  4,  2,  1],\n",
              "       [27,  9,  3,  1],\n",
              "       [64, 16,  4,  1]])"
            ]
          },
          "metadata": {
            "tags": []
          },
          "execution_count": 11
        }
      ]
    },
    {
      "cell_type": "code",
      "metadata": {
        "id": "3JcFRVoJ9KrX"
      },
      "source": [
        ""
      ],
      "execution_count": null,
      "outputs": []
    },
    {
      "cell_type": "markdown",
      "metadata": {
        "id": "LGb9XEI483Nv"
      },
      "source": [
        "Given a sequence of n values x1, x2, ..., xn and a window size k>0, the k-th moving average of\r\n",
        "the given sequence is defined as follows:   \r\n",
        "The moving average sequence has n-k+1 elements as shown below.     \r\n",
        "The moving averages with k=4 of a ten-value sequence (n=10) is shown below   \r\n",
        "i 1 2 3 4 5 6 7 8 9 10    \r\n",
        "===== == == == == == == == == == ==    \r\n",
        "Input 10 20 30 40 50 60 70 80 90 100 \r\n",
        "y1 25 = (10+20+30+40)/4   \r\n",
        "y2 35 = (20+30+40+50)/4    \r\n",
        "y3 45 = (30+40+50+60)/4    \r\n",
        "y4 55 = (40+50+60+70)/4    \r\n",
        "y5 65 = (50+60+70+80)/4     \r\n",
        "y6 75 = (60+70+80+90)/4     \r\n",
        "y7 85 = (70+80+90+100)/4     \r\n",
        "Thus, the moving average sequence has n-k+1=10-4+1=7 values.   \r\n",
        "Question: Write a function to find moving average in an array over a window:   \r\n",
        "Test it over [3, 5, 7, 2, 8, 10, 11, 65, 72, 81, 99, 100, 150] and window of 3."
      ]
    },
    {
      "cell_type": "code",
      "metadata": {
        "id": "nFynwpXp9d9-"
      },
      "source": [
        "def mov_aver(val_seq,n):\r\n",
        "  mv_arr=[]\r\n",
        "  for i in range(len(val_seq)-n+1):\r\n",
        "    average=sum(val_seq[i:i+n])/n\r\n",
        "    # print(i,average,val_seq[i:i+n] )\r\n",
        "    mv_arr.append(average)\r\n",
        "  return mv_arr"
      ],
      "execution_count": 42,
      "outputs": []
    },
    {
      "cell_type": "code",
      "metadata": {
        "colab": {
          "base_uri": "https://localhost:8080/"
        },
        "id": "ezZwwqTy9Jbn",
        "outputId": "c07e5184-f502-4216-df68-5e4e81148418"
      },
      "source": [
        "val_seq=np.array([3, 5, 7, 2, 8, 10, 11, 65, 72, 81, 99, 100, 150])\r\n",
        "print(mov_aver(val_seq,3))"
      ],
      "execution_count": 43,
      "outputs": [
        {
          "output_type": "stream",
          "text": [
            "[5.0, 4.666666666666667, 5.666666666666667, 6.666666666666667, 9.666666666666666, 28.666666666666668, 49.333333333333336, 72.66666666666667, 84.0, 93.33333333333333, 116.33333333333333]\n"
          ],
          "name": "stdout"
        }
      ]
    }
  ]
}