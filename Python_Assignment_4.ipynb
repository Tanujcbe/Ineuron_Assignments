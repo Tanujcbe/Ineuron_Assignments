{
  "nbformat": 4,
  "nbformat_minor": 0,
  "metadata": {
    "colab": {
      "name": "Python Assignment 4.ipynb",
      "provenance": [],
      "collapsed_sections": []
    },
    "kernelspec": {
      "name": "python3",
      "display_name": "Python 3"
    }
  },
  "cells": [
    {
      "cell_type": "markdown",
      "metadata": {
        "id": "5NGChJkONVvU"
      },
      "source": [
        "1.1 Write a Python Program(with class concepts) to find the area of the triangle using the below\r\n",
        "formula.\r\n",
        "area = (s*(s-a)*(s-b)*(s-c)) ** 0.5     \r\n",
        "Function to take the length of the sides of triangle from user should be defined in the parent\r\n",
        "class and function to calculate the area should be defined in subclass."
      ]
    },
    {
      "cell_type": "code",
      "metadata": {
        "id": "kqwluOm9ukLR"
      },
      "source": [
        "class poly:\r\n",
        "  def __init__(self,no_of_sides):\r\n",
        "    self.no_of_sides =  no_of_sides"
      ],
      "execution_count": null,
      "outputs": []
    },
    {
      "cell_type": "code",
      "metadata": {
        "id": "rmWLK7WoNQOf"
      },
      "source": [
        "class py_tri():\r\n",
        "  def __init__(self,n,sides):\r\n",
        "    poly.__init__(self,3)\r\n",
        "    self.n=n\r\n",
        "    self.sides=sides\r\n",
        "  def area_of_trian(self):\r\n",
        "    s=sum(self.sides)/2\r\n",
        "    self.k = ((s*(s-self.sides[0])*(s-self.sides[1])*(s-self.sides[2]))**0.5)\r\n",
        "    return self.k\r\n"
      ],
      "execution_count": null,
      "outputs": []
    },
    {
      "cell_type": "code",
      "metadata": {
        "colab": {
          "base_uri": "https://localhost:8080/"
        },
        "id": "DPeZ6hoSUHTB",
        "outputId": "df1987d4-3050-4d23-c90b-d7d884da559d"
      },
      "source": [
        "a=py_tri(6,[3,4,5])\r\n",
        "a.area_of_trian()"
      ],
      "execution_count": null,
      "outputs": [
        {
          "output_type": "execute_result",
          "data": {
            "text/plain": [
              "6.0"
            ]
          },
          "metadata": {
            "tags": []
          },
          "execution_count": 124
        }
      ]
    },
    {
      "cell_type": "markdown",
      "metadata": {
        "id": "kGIx3M8-2519"
      },
      "source": [
        "1.2 Write a function filter_long_words() that takes a list of words and an integer n and returns\r\n",
        "the list of words that are longer than n."
      ]
    },
    {
      "cell_type": "code",
      "metadata": {
        "id": "4ubfEiko282L"
      },
      "source": [
        "def filter_long_words(word_list,n):\r\n",
        "  return filter(lambda x:len(x)>n, word_list) "
      ],
      "execution_count": 7,
      "outputs": []
    },
    {
      "cell_type": "code",
      "metadata": {
        "colab": {
          "base_uri": "https://localhost:8080/"
        },
        "id": "Vy35TDyu3xY0",
        "outputId": "a438214c-3e71-40db-f83c-b746b7767c92"
      },
      "source": [
        "word_list=['My','Name','Is','Tanuj']\r\n",
        "list(filter_long_words(word_list,3))"
      ],
      "execution_count": 11,
      "outputs": [
        {
          "output_type": "execute_result",
          "data": {
            "text/plain": [
              "['Name', 'Tanuj']"
            ]
          },
          "metadata": {
            "tags": []
          },
          "execution_count": 11
        }
      ]
    },
    {
      "cell_type": "markdown",
      "metadata": {
        "id": "h7MAcp6C56gl"
      },
      "source": [
        "2.1 Write a Python program using function concept that maps list of words into a list of integers\r\n",
        "representing the lengths of the corresponding words.   \r\n",
        "Hint: If a list [ ab,cde,erty] is passed on to the python function output should come as [2,3,4]\r\n",
        "Here 2,3 and 4 are the lengths of the words in the list."
      ]
    },
    {
      "cell_type": "code",
      "metadata": {
        "id": "fvEn2cGY5975"
      },
      "source": [
        "def word_to_len(lst):\r\n",
        "  return map(len,lst)"
      ],
      "execution_count": 12,
      "outputs": []
    },
    {
      "cell_type": "code",
      "metadata": {
        "colab": {
          "base_uri": "https://localhost:8080/"
        },
        "id": "ELAtLGZxBemm",
        "outputId": "013c5994-b3f2-4d32-c1c6-d82c3c7c746e"
      },
      "source": [
        "lst= ['ab','cde','erty']\r\n",
        "list(word_to_len(lst))"
      ],
      "execution_count": 15,
      "outputs": [
        {
          "output_type": "execute_result",
          "data": {
            "text/plain": [
              "[2, 3, 4]"
            ]
          },
          "metadata": {
            "tags": []
          },
          "execution_count": 15
        }
      ]
    },
    {
      "cell_type": "markdown",
      "metadata": {
        "id": "6lCZZCVuCKJi"
      },
      "source": [
        "2.2 Write a Python function which takes a character (i.e. a string of length 1) and returns True if\r\n",
        "it is a vowel, False otherwise."
      ]
    },
    {
      "cell_type": "code",
      "metadata": {
        "id": "n34KvSzhCLnh"
      },
      "source": [
        "def check_vowel(ch):\r\n",
        "  vow_list=['a','e','i','o','u']\r\n",
        "  if ch.lower() in vow_list:\r\n",
        "    return True\r\n",
        "  return False"
      ],
      "execution_count": 27,
      "outputs": []
    },
    {
      "cell_type": "code",
      "metadata": {
        "colab": {
          "base_uri": "https://localhost:8080/"
        },
        "id": "G8Arz5udDMvy",
        "outputId": "24b63f55-673a-4895-c0d2-361f7f7aecaf"
      },
      "source": [
        "print(check_vowel('a'))\r\n",
        "print(check_vowel('b'))\r\n",
        "print(check_vowel('A'))"
      ],
      "execution_count": 29,
      "outputs": [
        {
          "output_type": "stream",
          "text": [
            "True\n",
            "False\n",
            "True\n"
          ],
          "name": "stdout"
        }
      ]
    }
  ]
}