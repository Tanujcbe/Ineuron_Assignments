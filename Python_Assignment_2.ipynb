{
  "nbformat": 4,
  "nbformat_minor": 0,
  "metadata": {
    "colab": {
      "name": "Python Assignment 2.ipynb",
      "provenance": []
    },
    "kernelspec": {
      "name": "python3",
      "display_name": "Python 3"
    }
  },
  "cells": [
    {
      "cell_type": "markdown",
      "metadata": {
        "id": "Q6KJiOen7m4I"
      },
      "source": [
        "1. Create the below pattern using nested for loop in Python.\r\n",
        "*\r\n",
        "* *\r\n",
        "* * *\r\n",
        "* * * *\r\n",
        "* * * * *\r\n",
        "* * * *\r\n",
        "* * *\r\n",
        "* *\r\n",
        "*"
      ]
    },
    {
      "cell_type": "code",
      "metadata": {
        "colab": {
          "base_uri": "https://localhost:8080/"
        },
        "id": "JrtAynjt7Bqz",
        "outputId": "89ce4877-1437-454a-f2ed-f7c88fe5053a"
      },
      "source": [
        "a=''\r\n",
        "for i in range(10):\r\n",
        "  if i<=5:\r\n",
        "    r=i\r\n",
        "  else:\r\n",
        "    r=10-i\r\n",
        "  for j in range(r):\r\n",
        "    print(\"*\",end=\" \")\r\n",
        "  print('')"
      ],
      "execution_count": 10,
      "outputs": [
        {
          "output_type": "stream",
          "text": [
            "\n",
            "* \n",
            "* * \n",
            "* * * \n",
            "* * * * \n",
            "* * * * * \n",
            "* * * * \n",
            "* * * \n",
            "* * \n",
            "* \n"
          ],
          "name": "stdout"
        }
      ]
    },
    {
      "cell_type": "markdown",
      "metadata": {
        "id": "9xOq0KOs_jJD"
      },
      "source": [
        "2. Write a Python program to reverse a word after accepting the input from the user.\r\n",
        "**Sample Output:**         \r\n",
        "Input word: ineuron      \r\n",
        "Output: norueni"
      ]
    },
    {
      "cell_type": "code",
      "metadata": {
        "colab": {
          "base_uri": "https://localhost:8080/"
        },
        "id": "-0F_JeFPAE3Q",
        "outputId": "e1c672b8-fce1-4e08-b5e0-0055f6f7bd98"
      },
      "source": [
        "s=input()\r\n",
        "print(s[::-1])"
      ],
      "execution_count": 11,
      "outputs": [
        {
          "output_type": "stream",
          "text": [
            "ineuron\n",
            "norueni\n"
          ],
          "name": "stdout"
        }
      ]
    }
  ]
}